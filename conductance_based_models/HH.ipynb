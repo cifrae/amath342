{
 "cells": [
  {
   "cell_type": "code",
   "execution_count": 1,
   "metadata": {
    "jupyter": {
     "outputs_hidden": true
    }
   },
   "outputs": [
    {
     "ename": "ModuleNotFoundError",
     "evalue": "No module named 'matplotlib'",
     "output_type": "error",
     "traceback": [
      "\u001b[0;31m---------------------------------------------------------------------------\u001b[0m",
      "\u001b[0;31mModuleNotFoundError\u001b[0m                       Traceback (most recent call last)",
      "\u001b[0;32m<ipython-input-1-86ab45af823f>\u001b[0m in \u001b[0;36m<module>\u001b[0;34m\u001b[0m\n\u001b[0;32m----> 1\u001b[0;31m \u001b[0;32mimport\u001b[0m \u001b[0mmatplotlib\u001b[0m\u001b[0;34m.\u001b[0m\u001b[0mpylab\u001b[0m \u001b[0;32mas\u001b[0m \u001b[0mplt\u001b[0m   \u001b[0;31m# That gives plotting, and the next line makes plots appear inline in notebook\u001b[0m\u001b[0;34m\u001b[0m\u001b[0;34m\u001b[0m\u001b[0m\n\u001b[0m\u001b[1;32m      2\u001b[0m \u001b[0mget_ipython\u001b[0m\u001b[0;34m(\u001b[0m\u001b[0;34m)\u001b[0m\u001b[0;34m.\u001b[0m\u001b[0mrun_line_magic\u001b[0m\u001b[0;34m(\u001b[0m\u001b[0;34m'matplotlib'\u001b[0m\u001b[0;34m,\u001b[0m \u001b[0;34m'inline  '\u001b[0m\u001b[0;34m)\u001b[0m\u001b[0;34m\u001b[0m\u001b[0;34m\u001b[0m\u001b[0m\n\u001b[1;32m      3\u001b[0m \u001b[0;32mimport\u001b[0m \u001b[0mnumpy\u001b[0m \u001b[0;32mas\u001b[0m \u001b[0mnp\u001b[0m  \u001b[0;31m# That gives numerical arrays and tools for manipulating them\u001b[0m\u001b[0;34m\u001b[0m\u001b[0;34m\u001b[0m\u001b[0m\n",
      "\u001b[0;31mModuleNotFoundError\u001b[0m: No module named 'matplotlib'"
     ]
    }
   ],
   "source": [
    "import matplotlib.pylab as plt   # That gives plotting, and the next line makes plots appear inline in notebook\n",
    "%matplotlib inline  \n",
    "import numpy as np  # That gives numerical arrays and tools for manipulating them"
   ]
  },
  {
   "cell_type": "markdown",
   "metadata": {},
   "source": [
    "Set up the simulation of the Hodgkin/Huxley Equations (V_HH = -V-65), with current definition of membrane potential (V=Vin-Vout)"
   ]
  },
  {
   "cell_type": "markdown",
   "metadata": {},
   "source": [
    "## The HH model"
   ]
  },
  {
   "cell_type": "markdown",
   "metadata": {},
   "source": [
    "set the constants"
   ]
  },
  {
   "cell_type": "code",
   "execution_count": 3,
   "metadata": {
    "collapsed": true,
    "jupyter": {
     "outputs_hidden": true
    }
   },
   "outputs": [],
   "source": [
    "vna=50;  \n",
    "vk=-77;\n",
    "vl=-54.4;\n",
    "gna=120;\n",
    "gk=36;\n",
    "gl=.3;\n",
    "c=1;"
   ]
  },
  {
   "cell_type": "code",
   "execution_count": 4,
   "metadata": {
    "collapsed": true,
    "jupyter": {
     "outputs_hidden": true
    }
   },
   "outputs": [],
   "source": [
    "v_init=-65;  #the initial conditions\n",
    "m_init=.052;\n",
    "h_init=.596;\n",
    "n_init=.317;\n",
    "\n",
    "nsteps=50000   #number of timesteps to integrate\n",
    "dt=0.01        #timestep, units of ms"
   ]
  },
  {
   "cell_type": "markdown",
   "metadata": {},
   "source": [
    "Set up arrays to hold dynamical variables"
   ]
  },
  {
   "cell_type": "code",
   "execution_count": 5,
   "metadata": {
    "collapsed": true,
    "jupyter": {
     "outputs_hidden": true
    }
   },
   "outputs": [],
   "source": [
    "v=np.zeros([nsteps])\n",
    "m=np.zeros([nsteps])\n",
    "n=np.zeros([nsteps])\n",
    "h=np.zeros([nsteps])\n",
    "t=np.zeros([nsteps])\n",
    "\n",
    "# set the initial conditions to be the first entry in the vectors\n",
    "\n",
    "m[0]=m_init; #set the initial conditions to be the first entry in the vectors\n",
    "n[0]=n_init;\n",
    "h[0]=h_init;\n",
    "v[0]=v_init;\n",
    "t[0]=0.0;"
   ]
  },
  {
   "cell_type": "markdown",
   "metadata": {},
   "source": [
    "### Define functions -- channel opening and closing rates "
   ]
  },
  {
   "cell_type": "code",
   "execution_count": 6,
   "metadata": {
    "collapsed": true,
    "jupyter": {
     "outputs_hidden": true
    }
   },
   "outputs": [],
   "source": [
    "def beta_n(v):\n",
    "    r =.125*np.exp(-(v+65)/80);\n",
    "    return r\n",
    "\n",
    "def beta_m(v):\n",
    "    r =  4*np.exp(-(v+65)/18);\n",
    "    return r\n",
    "\n",
    "def beta_h(v):\n",
    "    r =  1/(1+np.exp(-(v+35)/10));\n",
    "    return r\n",
    "\n",
    "def alpha_n(v):\n",
    "    r =  .01*(v+55)/(1-np.exp(-(v+55)/10));\n",
    "    return r\n",
    "\n",
    "def alpha_m(v):\n",
    "    r =  .1*(v+40)/(1-np.exp(-(v+40)/10));\n",
    "    return r\n",
    "\n",
    "def alpha_h(v):\n",
    "    r =  .07*np.exp(-(v+65)/20);\n",
    "    return r\n",
    "\n"
   ]
  },
  {
   "cell_type": "markdown",
   "metadata": {},
   "source": [
    "# Set the applied INPUT current I, and run simulation"
   ]
  },
  {
   "cell_type": "code",
   "execution_count": 8,
   "metadata": {
    "collapsed": true,
    "jupyter": {
     "outputs_hidden": true
    }
   },
   "outputs": [
    {
     "data": {
      "text/plain": [
       "Text(0, 0.5, 'v')"
      ]
     },
     "execution_count": 8,
     "metadata": {},
     "output_type": "execute_result"
    },
    {
     "data": {
      "image/png": "[encoded data removed]",
      "text/plain": [
       "<Figure size 432x288 with 1 Axes>"
      ]
     },
     "metadata": {
      "needs_background": "light"
     },
     "output_type": "display_data"
    }
   ],
   "source": [
    "I=0\n",
    "\n",
    "iter_arr=np.arange(nsteps-1)\n",
    "\n",
    "for step in iter_arr:\n",
    "    v[step+1]=v[step]+((I - gna*h[step]*(v[step]-vna)*m[step]**3 -gk*(v[step]-vk)*n[step]**4-gl*(v[step]-vl))/c)*dt;\n",
    "    m[step+1]=m[step]+ (alpha_m(v[step])*(1-m[step])-beta_m(v[step])*m[step])*dt;\n",
    "    h[step+1]=h[step]+ (alpha_h(v[step])*(1-h[step])-beta_h(v[step])*h[step])*dt;\n",
    "    n[step+1]=n[step]+ (alpha_n(v[step])*(1-n[step])-beta_n(v[step])*n[step])*dt;\n",
    "    t[step+1]=t[step]+dt;\n",
    "\n",
    "plt.plot(t,v)\n",
    "plt.xlabel('t')\n",
    "plt.ylabel('v')"
   ]
  }
 ],
 "metadata": {
  "kernelspec": {
   "display_name": "Python 3",
   "language": "python",
   "name": "python3"
  },
  "language_info": {
   "codemirror_mode": {
    "name": "ipython",
    "version": 3
   },
   "file_extension": ".py",
   "mimetype": "text/x-python",
   "name": "python",
   "nbconvert_exporter": "python",
   "pygments_lexer": "ipython3",
   "version": "3.7.3"
  }
 },
 "nbformat": 4,
 "nbformat_minor": 4
}
